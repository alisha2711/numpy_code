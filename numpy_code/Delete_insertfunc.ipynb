{
 "cells": [
  {
   "cell_type": "code",
   "execution_count": 8,
   "id": "87594c9e",
   "metadata": {},
   "outputs": [
    {
     "name": "stdout",
     "output_type": "stream",
     "text": [
      "[3 2 6 5 4 1]\n",
      "\n",
      "unique\n",
      "[1 2 3 4 2 5 4 6 5 6]\n",
      "(array([1, 2, 3, 4, 5, 6]), array([0, 1, 2, 3, 5, 7]), array([1, 2, 1, 2, 2, 2]))\n",
      "\n",
      "Resize\n",
      "[[1 2 3]\n",
      " [4 2 5]]\n"
     ]
    }
   ],
   "source": [
    "#Arthematic Functions\n",
    "import numpy as np\n",
    "#Shuffle\n",
    "var=np.array([1,2,3,4,5,6])\n",
    "np.random.shuffle(var)\n",
    "print(var)\n",
    "\n",
    "print ()\n",
    "# Unique\n",
    "print(\"unique\")\n",
    "var1=np.array([1,2,3,4,2,5,4,6,5,6])\n",
    "np.unique(var1)\n",
    "print(var1)\n",
    "var2=np.array([1,2,3,4,2,5,4,6,5,6])\n",
    "x1=np.unique(var2,return_index=True,return_counts=True)\n",
    "print(x1)\n",
    "print ()\n",
    "\n",
    "#Resize\n",
    "print(\"Resize\")\n",
    "var3=np.array([1,2,3,4,2,5,4,6,5,6])\n",
    "x2=np.resize(var3,(2,3))\n",
    "print(x2)\n",
    "\n",
    "\n"
   ]
  },
  {
   "cell_type": "code",
   "execution_count": null,
   "id": "6bf4d9fa",
   "metadata": {},
   "outputs": [
    {
     "name": "stdout",
     "output_type": "stream",
     "text": [
      "[1 2 3 4 2 5 4 6 5 6]\n",
      "[1 5 2 4 3 6 4 5 2 6]\n"
     ]
    }
   ],
   "source": [
    "#flatlen & reval  ->  2D & 3D array ko  1D ma convert karna \n",
    "# order{\"c\",\"f\",\"a\",\"k\"}\n",
    "var3=np.array([[1,2,3,4,2],[5,4,6,5,6]])\n",
    "print(np.ravel(var3,order=\"c\"))  # original view karta ha \n",
    "print(var3.flatten(order=\"f\"))  # copy banata ha ha \n"
   ]
  },
  {
   "cell_type": "code",
   "execution_count": 31,
   "id": "7d3ef563",
   "metadata": {},
   "outputs": [
    {
     "name": "stdout",
     "output_type": "stream",
     "text": [
      "[1 2 3 4]\n",
      "[1 2 6 3 4 6]\n",
      "[[1 2 3 4]\n",
      " [6 7 8 9]]\n",
      "[[1 2 3 4]\n",
      " [5 5 5 5]\n",
      " [6 7 8 9]]\n",
      "[[ 1  2  3  5  4]\n",
      " [ 6  7  8 10  9]]\n"
     ]
    }
   ],
   "source": [
    "#Insert 1 Dimentional\n",
    "#  (arrayname , position , value)\n",
    "var =np.array ([1,2,3,4])\n",
    "print(var)\n",
    "v=np.insert(var,(2,4),6)\n",
    "print(v)\n",
    "\n",
    "#2 Dimentioanl \n",
    "var1 =np.array ([[1,2,3,4],[6,7,8,9]])\n",
    "print(var1)\n",
    "k=np.insert(var1,1,(5) ,axis=0)  # coloumn insert\n",
    "M=np.insert(var1,3,(5,10) ,axis=1)  #  row insert\n",
    "print(k)\n",
    "print(M)\n"
   ]
  },
  {
   "cell_type": "code",
   "execution_count": null,
   "id": "794b6cc3",
   "metadata": {},
   "outputs": [
    {
     "name": "stdout",
     "output_type": "stream",
     "text": [
      "[1.  2.  3.  4.  6.5]\n",
      "[ 1  2  3  4  6  7  8  9 77]\n"
     ]
    }
   ],
   "source": [
    "# Append Function  add value at last\n",
    "#  1 Dimention\n",
    "var =np.array ([1,2,3,4])\n",
    "\n",
    "x=np.append(var,6.5)\n",
    "print (x)\n",
    "#  2 Dimention\n",
    "var1 =np.array ([[1,2,3,4],[6,7,8,9]])\n",
    "x1= np.append(var1,77)\n",
    "print(x1)\n",
    "\n"
   ]
  },
  {
   "cell_type": "code",
   "execution_count": 36,
   "id": "8b0f7f2c",
   "metadata": {},
   "outputs": [
    {
     "name": "stdout",
     "output_type": "stream",
     "text": [
      "[1 2 4]\n"
     ]
    }
   ],
   "source": [
    "#  Delete    1 Dimention\n",
    "var =np.array ([1,2,3,4])\n",
    "d= np.delete (var,2)\n",
    "print (d)\n"
   ]
  },
  {
   "cell_type": "code",
   "execution_count": null,
   "id": "6695f64d",
   "metadata": {},
   "outputs": [],
   "source": []
  }
 ],
 "metadata": {
  "kernelspec": {
   "display_name": "Python 3",
   "language": "python",
   "name": "python3"
  },
  "language_info": {
   "codemirror_mode": {
    "name": "ipython",
    "version": 3
   },
   "file_extension": ".py",
   "mimetype": "text/x-python",
   "name": "python",
   "nbconvert_exporter": "python",
   "pygments_lexer": "ipython3",
   "version": "3.13.6"
  }
 },
 "nbformat": 4,
 "nbformat_minor": 5
}
